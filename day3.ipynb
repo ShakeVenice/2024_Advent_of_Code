{
 "cells": [
  {
   "cell_type": "code",
   "execution_count": 1,
   "id": "81358f4a-403d-4dae-9704-2c151b867a32",
   "metadata": {},
   "outputs": [
    {
     "name": "stdout",
     "output_type": "stream",
     "text": [
      "187825547\n"
     ]
    }
   ],
   "source": [
    "import re\n",
    "\n",
    "# Define a regex pattern to extract valid mul(X,Y) instructions\n",
    "pattern = r\"mul\\((\\d+),(\\d+)\\)\"\n",
    "\n",
    "# Initialize total sum\n",
    "total_sum = 0\n",
    "\n",
    "# Read the input data\n",
    "with open(\"input3.txt\") as file:\n",
    "    for line in file:\n",
    "        # Find all matches of the pattern in the line\n",
    "        matches = re.findall(pattern, line)\n",
    "        \n",
    "        # Process each valid match\n",
    "        for x, y in matches:\n",
    "            total_sum += int(x) * int(y)\n",
    "\n",
    "print(total_sum)\n"
   ]
  },
  {
   "cell_type": "code",
   "execution_count": 3,
   "id": "feb7017c-4052-4dfb-8b2d-10eba3e20978",
   "metadata": {},
   "outputs": [
    {
     "name": "stdout",
     "output_type": "stream",
     "text": [
      "85508223\n"
     ]
    }
   ],
   "source": [
    "import re\n",
    "\n",
    "# Define regex patterns to identify instructions\n",
    "mul_pattern = r\"mul\\((\\d+),(\\d+)\\)\"  # Match mul(X,Y)\n",
    "do_pattern = r\"do\\(\\)\"               # Match do()\n",
    "dont_pattern = r\"don't\\(\\)\"          # Match don't()\n",
    "\n",
    "# Initialize variables\n",
    "total_sum = 0\n",
    "multiplication_enabled = True  # At the start, mul instructions are enabled\n",
    "\n",
    "# Read the input data\n",
    "with open(\"input3.txt\") as file:\n",
    "    for line in file:\n",
    "        # Process each instruction in the line\n",
    "        instructions = re.findall(r\"mul\\(\\d+,\\d+\\)|do\\(\\)|don't\\(\\)\", line)\n",
    "        \n",
    "        for instruction in instructions:\n",
    "            # Handle do() instruction\n",
    "            if instruction == \"do()\":\n",
    "                multiplication_enabled = True\n",
    "            \n",
    "            # Handle don't() instruction\n",
    "            elif instruction == \"don't()\":\n",
    "                multiplication_enabled = False\n",
    "            \n",
    "            # Handle mul(X,Y) instruction\n",
    "            else:\n",
    "                if multiplication_enabled:\n",
    "                    x, y = map(int, re.findall(r\"\\d+\", instruction))\n",
    "                    total_sum += x * y\n",
    "\n",
    "print(total_sum)\n"
   ]
  },
  {
   "cell_type": "code",
   "execution_count": null,
   "id": "cf0f793c-fe4c-4326-a0bc-536c75c3c16e",
   "metadata": {},
   "outputs": [],
   "source": []
  }
 ],
 "metadata": {
  "kernelspec": {
   "display_name": "Python 3 (ipykernel)",
   "language": "python",
   "name": "python3"
  },
  "language_info": {
   "codemirror_mode": {
    "name": "ipython",
    "version": 3
   },
   "file_extension": ".py",
   "mimetype": "text/x-python",
   "name": "python",
   "nbconvert_exporter": "python",
   "pygments_lexer": "ipython3",
   "version": "3.9.12"
  }
 },
 "nbformat": 4,
 "nbformat_minor": 5
}
