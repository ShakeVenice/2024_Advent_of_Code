{
 "cells": [
  {
   "cell_type": "code",
   "execution_count": 1,
   "id": "d4ff7b95-665b-4aca-945b-4d15c0657f07",
   "metadata": {},
   "outputs": [
    {
     "name": "stdout",
     "output_type": "stream",
     "text": [
      "236\n"
     ]
    }
   ],
   "source": [
    "def is_safe(report):\n",
    "\n",
    "    # Check differences between adjacent levels\n",
    "    differences = [report[i+1] - report[i] for i in range(len(report) - 1)]\n",
    "    \n",
    "    # Check if all differences are in the range \n",
    "    if all(1 <= diff <= 3 for diff in differences):  # Increasing\n",
    "        return True\n",
    "    elif all(-3 <= diff <= -1 for diff in differences):  # Decreasing\n",
    "        return True\n",
    "    return False\n",
    "\n",
    "safe_count = 0\n",
    "\n",
    "# Read the input data\n",
    "with open(\"input2.txt\") as file:\n",
    "    for line in file:\n",
    "        report = list(map(int, line.strip().split()))\n",
    "        if is_safe(report):\n",
    "            safe_count += 1\n",
    "\n",
    "print(safe_count)\n"
   ]
  },
  {
   "cell_type": "code",
   "execution_count": 2,
   "id": "3ed5ff3e-a52e-4ff4-8144-64991873d516",
   "metadata": {},
   "outputs": [
    {
     "name": "stdout",
     "output_type": "stream",
     "text": [
      "308\n"
     ]
    }
   ],
   "source": [
    "def is_safe(report):\n",
    "    \"\"\"\n",
    "    Checks if a report is safe based on the given conditions:\n",
    "    1. Levels are either all increasing or all decreasing.\n",
    "    2. Any two adjacent levels differ by at least 1 and at most 3.\n",
    "    \"\"\"\n",
    "    differences = [report[i+1] - report[i] for i in range(len(report) - 1)]\n",
    "    if all(1 <= diff <= 3 for diff in differences):  # Increasing\n",
    "        return True\n",
    "    if all(-3 <= diff <= -1 for diff in differences):  # Decreasing\n",
    "        return True\n",
    "    return False\n",
    "\n",
    "def is_safe_with_dampener(report):\n",
    "    \"\"\"\n",
    "    Checks if a report can be made safe by removing one level.\n",
    "    \"\"\"\n",
    "    for i in range(len(report)):\n",
    "        modified_report = report[:i] + report[i+1:]  # Remove the i-th level\n",
    "        if is_safe(modified_report):\n",
    "            return True\n",
    "    return False\n",
    "\n",
    "safe_count = 0\n",
    "\n",
    "# Read the input data\n",
    "with open(\"input2.txt\") as file:\n",
    "    for line in file:\n",
    "        report = list(map(int, line.strip().split()))\n",
    "        if is_safe(report) or is_safe_with_dampener(report):\n",
    "            safe_count += 1\n",
    "\n",
    "print(safe_count)\n"
   ]
  },
  {
   "cell_type": "code",
   "execution_count": null,
   "id": "e8a4d72c-cfbe-4ff8-8460-1902fe75d54d",
   "metadata": {},
   "outputs": [],
   "source": []
  }
 ],
 "metadata": {
  "kernelspec": {
   "display_name": "Python 3 (ipykernel)",
   "language": "python",
   "name": "python3"
  },
  "language_info": {
   "codemirror_mode": {
    "name": "ipython",
    "version": 3
   },
   "file_extension": ".py",
   "mimetype": "text/x-python",
   "name": "python",
   "nbconvert_exporter": "python",
   "pygments_lexer": "ipython3",
   "version": "3.9.12"
  }
 },
 "nbformat": 4,
 "nbformat_minor": 5
}
