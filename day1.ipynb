{
 "cells": [
  {
   "cell_type": "code",
   "execution_count": 1,
   "id": "348bdb1a-4f13-4b3f-8be1-3e0a250957cb",
   "metadata": {},
   "outputs": [
    {
     "name": "stdout",
     "output_type": "stream",
     "text": [
      "2756096\n"
     ]
    }
   ],
   "source": [
    "total_distance = 0\n",
    "\n",
    "# Open and read the input file\n",
    "with open(\"input1.txt\") as file:\n",
    "    left_list = []\n",
    "    right_list = []\n",
    "    \n",
    "    # Read and parse the file\n",
    "    for line in file.readlines():\n",
    "        left, right = map(int, line.strip().split())\n",
    "        left_list.append(left)\n",
    "        right_list.append(right)\n",
    "    \n",
    "    # Sort both lists\n",
    "    left_list.sort()\n",
    "    right_list.sort()\n",
    "    \n",
    "    # Calculate the total distance\n",
    "    for l, r in zip(left_list, right_list):\n",
    "        total_distance += abs(l - r)\n",
    "\n",
    "print(total_distance)"
   ]
  },
  {
   "cell_type": "code",
   "execution_count": 3,
   "id": "664052b4-09b0-4051-8b77-9db1b8f8a8c0",
   "metadata": {},
   "outputs": [
    {
     "name": "stdout",
     "output_type": "stream",
     "text": [
      "23117829\n"
     ]
    }
   ],
   "source": [
    "from collections import Counter\n",
    "\n",
    "similarity_score = 0\n",
    "\n",
    "# Open and read the input file\n",
    "with open(\"input1.txt\") as file:\n",
    "    left_list = []\n",
    "    right_list = []\n",
    "    \n",
    "    # Read and parse the file\n",
    "    for line in file.readlines():\n",
    "        left, right = map(int, line.strip().split())\n",
    "        left_list.append(left)\n",
    "        right_list.append(right)\n",
    "    \n",
    "    # Count occurrences of each number in the right list\n",
    "    right_count = Counter(right_list)\n",
    "    \n",
    "    # Calculate the similarity score\n",
    "    for num in left_list:\n",
    "        similarity_score += num * right_count[num]\n",
    "\n",
    "print(similarity_score)\n"
   ]
  }
 ],
 "metadata": {
  "kernelspec": {
   "display_name": "Python 3 (ipykernel)",
   "language": "python",
   "name": "python3"
  },
  "language_info": {
   "codemirror_mode": {
    "name": "ipython",
    "version": 3
   },
   "file_extension": ".py",
   "mimetype": "text/x-python",
   "name": "python",
   "nbconvert_exporter": "python",
   "pygments_lexer": "ipython3",
   "version": "3.9.12"
  }
 },
 "nbformat": 4,
 "nbformat_minor": 5
}
