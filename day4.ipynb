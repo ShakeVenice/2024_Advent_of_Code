{
 "cells": [
  {
   "cell_type": "code",
   "execution_count": null,
   "id": "e473654e-a4b9-492f-9ef4-d573cab2e313",
   "metadata": {},
   "outputs": [],
   "source": []
  },
  {
   "cell_type": "code",
   "execution_count": 42,
   "id": "82082d8e-67cf-40b3-a740-206cc28f5144",
   "metadata": {
    "tags": []
   },
   "outputs": [
    {
     "name": "stdout",
     "output_type": "stream",
     "text": [
      "412\n"
     ]
    }
   ],
   "source": [
    "def count_xmas(grid, word=\"XMAS\"):\n",
    "    word_length = 4\n",
    "    rows = len(grid)\n",
    "    cols = len(grid[0])\n",
    "    total_count = 0\n",
    "\n",
    "    # Helper function to check if XMAS exists starting from (r, c) in direction (dr, dc)\n",
    "    def check_xmas(r, c, dr, dc):\n",
    "        for i in range(word_length):\n",
    "            nr, nc = r + dr * i, c + dc * i\n",
    "            if nr < 0 or nr >= rows or nc < 0 or nc >= cols or grid[nr][nc] != word[i]:\n",
    "                return False\n",
    "            elif i==3 and grid[nr-dr*3][nc-dc*3]+grid[nr-dr*2][nc-dc*2]+grid[nr-dr][nc-dc]+grid[nr][nc] == word:\n",
    "                #print (dr,dc)\n",
    "                return True\n",
    "            continue\n",
    "        \n",
    "            \n",
    "\n",
    "    # Loop through each cell in the grid\n",
    "    for r in range(rows):\n",
    "        for c in range(cols):\n",
    "            # Check all 8 possible directions\n",
    "            directions = [\n",
    "                (0, 1),   # Right\n",
    "                (0, -1),  # Left\n",
    "                (1, 0),   # Down\n",
    "                (-1, 0),  # Up\n",
    "                (1, 1),   # Down-right diagonal\n",
    "                (1, -1),  # Down-left diagonal\n",
    "                (-1, 1),  # Up-right diagonal\n",
    "                (-1, -1)  # Up-left diagonal\n",
    "            ]\n",
    "            for dr, dc in directions:\n",
    "                if check_xmas(r, c, dr, dc):\n",
    "                    total_count += 1\n",
    "\n",
    "    return total_count\n",
    "\n",
    "\n",
    "# Read the input file\n",
    "with open(\"input4.txt\") as file:\n",
    "    data = file.read().strip()\n",
    "\n",
    "# Convert the single line into a grid (one character per cell, one row)\n",
    "grid = [list(data)]\n",
    "\n",
    "# Count occurrences of \"XMAS\"\n",
    "result = count_xmas(grid)\n",
    "print(result)\n"
   ]
  },
  {
   "cell_type": "code",
   "execution_count": 46,
   "id": "56b7c0eb-b615-406d-9c5a-42912884864c",
   "metadata": {
    "tags": []
   },
   "outputs": [
    {
     "name": "stdout",
     "output_type": "stream",
     "text": [
      "412\n"
     ]
    }
   ],
   "source": [
    "def count_xmas(grid, word=\"XMAS\"):\n",
    "    word_length = len(word)\n",
    "    rows = len(grid)\n",
    "    cols = len(grid[0])\n",
    "    total_count = 0\n",
    "\n",
    "    # Helper function to check if XMAS exists starting from (r, c) in direction (dr, dc)\n",
    "    def check_xmas(r, c, dr, dc):\n",
    "        for i in range(word_length):\n",
    "            nr, nc = r + dr * i, c + dc * i\n",
    "            # Check boundaries and character match\n",
    "            if nr < 0 or nr >= rows or nc < 0 or nc >= cols or grid[nr][nc] != word[i]:\n",
    "                return False\n",
    "        return True  # If all characters match, return True\n",
    "\n",
    "    # Loop through each cell in the grid\n",
    "    for r in range(rows):\n",
    "        for c in range(cols):\n",
    "            # Check all 8 possible directions\n",
    "            directions = [\n",
    "                (0, 1),   # Right\n",
    "                (0, -1),  # Left\n",
    "                (1, 0),   # Down\n",
    "                (-1, 0),  # Up\n",
    "                (1, 1),   # Down-right diagonal\n",
    "                (1, -1),  # Down-left diagonal\n",
    "                (-1, 1),  # Up-right diagonal\n",
    "                (-1, -1)  # Up-left diagonal\n",
    "            ]\n",
    "            for dr, dc in directions:\n",
    "                if check_xmas(r, c, dr, dc):\n",
    "                    #print(f\"Found XMAS starting at ({r}, {c}) in direction ({dr}, {dc})\")\n",
    "                    total_count += 1\n",
    "\n",
    "    return total_count\n",
    "\n",
    "\n",
    "# Read the input file\n",
    "with open(\"input4.txt\") as file:\n",
    "    data = file.read().strip()\n",
    "\n",
    "# Convert the single line into a grid (one character per cell, one row)\n",
    "grid = [list(data)]\n",
    "\n",
    "# Count occurrences of \"XMAS\"\n",
    "result = count_xmas(grid)\n",
    "print(result)\n"
   ]
  },
  {
   "cell_type": "code",
   "execution_count": 47,
   "id": "93057f41-20e3-4432-9659-5b4de2efa300",
   "metadata": {},
   "outputs": [
    {
     "name": "stdout",
     "output_type": "stream",
     "text": [
      "Total occurrences of XMAS in diagonal directions: 2545\n"
     ]
    }
   ],
   "source": [
    "def count_xmas(grid, word=\"XMAS\"):\n",
    "    word_length = len(word)\n",
    "    rows = len(grid)\n",
    "    cols = len(grid[0])\n",
    "    total_count = 0\n",
    "\n",
    "    # Helper function to check if XMAS exists starting from (r, c) in direction (dr, dc)\n",
    "    def check_xmas(r, c, dr, dc):\n",
    "        for i in range(word_length):\n",
    "            nr, nc = r + dr * i, c + dc * i\n",
    "            # Check boundaries and character match\n",
    "            if nr < 0 or nr >= rows or nc < 0 or nc >= cols or grid[nr][nc] != word[i]:\n",
    "                return False\n",
    "        return True  # If all characters match, return True\n",
    "\n",
    "    # Loop through in the grid\n",
    "    for r in range(rows):\n",
    "        for c in range(cols):\n",
    "            # Check all directions starting from the current letter\n",
    "            directions = [\n",
    "                (1, 1)  ,   # Down-right diagonal\n",
    "                (1, -1) ,   # Down-left diagonal\n",
    "                (-1, 1) ,   # Up-right diagonal\n",
    "                (-1, -1),   # Up-left diagonal\n",
    "                (1, 0)  ,   # Down\n",
    "                (-1, 0),    # Up\n",
    "                (0, 1),     # Right\n",
    "                (0, -1)     # Left\n",
    "            ]\n",
    "            for dr, dc in directions:\n",
    "                if check_xmas(r, c, dr, dc):\n",
    "                    #print(f\"Found XMAS starting at ({r}, {c}) in direction ({dr}, {dc})\")\n",
    "                    total_count += 1\n",
    "\n",
    "    return total_count\n",
    "\n",
    "\n",
    "with open(\"input4.txt\") as file:\n",
    "    grid = file.read().splitlines()\n",
    "\n",
    "# Count occurrences of \"XMAS\" in diagonal directions\n",
    "result = count_xmas(grid)\n",
    "print(f\"Total occurrences of XMAS in diagonal directions: {result}\")\n"
   ]
  },
  {
   "cell_type": "code",
   "execution_count": 45,
   "id": "f0d59d7d-5b09-48c0-9875-6302d4cd74aa",
   "metadata": {},
   "outputs": [],
   "source": [
    "# with open(\"input4.txt\") as file:\n",
    "#     grid = file.read().splitlines()\n",
    "    \n",
    "# for r, row in enumerate(grid):\n",
    "#     for c, ch in enumerate(row):\n",
    "#         for dr in range(r , r + 4):\n",
    "#             for dc in range(c , c + 4):\n",
    "#                 if dr < 0 or dr >= len(grid) or dc < 0 or dc >= len(grid[dr])\n",
    "#                     continue\n",
    "                "
   ]
  },
  {
   "cell_type": "code",
   "execution_count": 50,
   "id": "e0b3ef1b-d516-48fa-ace5-bf9c41ea4a8d",
   "metadata": {},
   "outputs": [
    {
     "name": "stdout",
     "output_type": "stream",
     "text": [
      "Total occurrences of X-MAS: 1886\n"
     ]
    }
   ],
   "source": [
    "def count_xmas_x(grid):\n",
    "    rows = len(grid)\n",
    "    cols = len(grid[0])\n",
    "    total_count = 0\n",
    "\n",
    "    # Check if a valid \"X-MAS\" exists with the center at (r, c)\n",
    "    def is_x_mas(r, c):\n",
    "        # Ensure the \"X\" pattern matches two \"MAS\" diagonals crossing at (r, c)\n",
    "        return (\n",
    "            0 <= r - 1 < rows and 0 <= c - 1 < cols and grid[r - 1][c - 1] == \"M\" and  # Top-left diagonal\n",
    "            0 <= r + 1 < rows and 0 <= c + 1 < cols and grid[r + 1][c + 1] == \"S\" and  # Bottom-right diagonal\n",
    "            0 <= r + 1 < rows and 0 <= c - 1 < cols and grid[r + 1][c - 1] == \"M\" and  # Bottom-left diagonal\n",
    "            0 <= r - 1 < rows and 0 <= c + 1 < cols and grid[r - 1][c + 1] == \"S\" and  # Top-right diagonal\n",
    "            grid[r][c] == \"A\"  # Center of the \"X\"\n",
    "            \n",
    "            or\n",
    "            \n",
    "            0 <= r - 1 < rows and 0 <= c - 1 < cols and grid[r - 1][c - 1] == \"S\" and  # Top-left diagonal\n",
    "            0 <= r + 1 < rows and 0 <= c + 1 < cols and grid[r + 1][c + 1] == \"M\" and  # Bottom-right diagonal\n",
    "            0 <= r + 1 < rows and 0 <= c - 1 < cols and grid[r + 1][c - 1] == \"S\" and  # Bottom-left diagonal\n",
    "            0 <= r - 1 < rows and 0 <= c + 1 < cols and grid[r - 1][c + 1] == \"M\" and  # Top-right diagonal\n",
    "            grid[r][c] == \"A\"  # Center of the \"X\"\n",
    "            \n",
    "            or\n",
    "            \n",
    "            0 <= r - 1 < rows and 0 <= c - 1 < cols and grid[r - 1][c - 1] == \"S\" and  # Top-left diagonal\n",
    "            0 <= r + 1 < rows and 0 <= c + 1 < cols and grid[r + 1][c + 1] == \"M\" and  # Bottom-right diagonal\n",
    "            0 <= r + 1 < rows and 0 <= c - 1 < cols and grid[r + 1][c - 1] == \"M\" and  # Bottom-left diagonal\n",
    "            0 <= r - 1 < rows and 0 <= c + 1 < cols and grid[r - 1][c + 1] == \"S\" and  # Top-right diagonal\n",
    "            grid[r][c] == \"A\"  # Center of the \"X\"\n",
    "            \n",
    "            or \n",
    "            \n",
    "            0 <= r - 1 < rows and 0 <= c - 1 < cols and grid[r - 1][c - 1] == \"M\" and  # Top-left diagonal\n",
    "            0 <= r + 1 < rows and 0 <= c + 1 < cols and grid[r + 1][c + 1] == \"S\" and  # Bottom-right diagonal\n",
    "            0 <= r + 1 < rows and 0 <= c - 1 < cols and grid[r + 1][c - 1] == \"S\" and  # Bottom-left diagonal\n",
    "            0 <= r - 1 < rows and 0 <= c + 1 < cols and grid[r - 1][c + 1] == \"M\" and  # Top-right diagonal\n",
    "            grid[r][c] == \"A\"  # Center of the \"X\"\n",
    "        )\n",
    "\n",
    "    # Loop through each cell in the grid\n",
    "    for r in range(rows):\n",
    "        for c in range(cols):\n",
    "            if is_x_mas(r, c):\n",
    "                #print(f\"Found X-MAS centered at ({r}, {c})\")\n",
    "                total_count += 1\n",
    "\n",
    "    return total_count\n",
    "\n",
    "\n",
    "with open(\"input4.txt\") as file:\n",
    "    grid = file.read().splitlines()\n",
    "\n",
    "# Count occurrences of \"X-MAS\"\n",
    "result = count_xmas_x(grid)\n",
    "print(f\"Total occurrences of X-MAS: {result}\")\n"
   ]
  },
  {
   "cell_type": "code",
   "execution_count": null,
   "id": "4476d65b-5c36-4a59-8a58-e00848e4316e",
   "metadata": {},
   "outputs": [],
   "source": []
  }
 ],
 "metadata": {
  "kernelspec": {
   "display_name": "Python 3 (ipykernel)",
   "language": "python",
   "name": "python3"
  },
  "language_info": {
   "codemirror_mode": {
    "name": "ipython",
    "version": 3
   },
   "file_extension": ".py",
   "mimetype": "text/x-python",
   "name": "python",
   "nbconvert_exporter": "python",
   "pygments_lexer": "ipython3",
   "version": "3.9.12"
  }
 },
 "nbformat": 4,
 "nbformat_minor": 5
}
